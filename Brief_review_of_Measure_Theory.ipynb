{
 "cells": [
  {
   "cell_type": "markdown",
   "id": "1bcd1f63",
   "metadata": {},
   "source": [
    "# Measure Theory"
   ]
  },
  {
   "cell_type": "markdown",
   "id": "8cc56796",
   "metadata": {},
   "source": [
    "## Sets and classes of sets"
   ]
  },
  {
   "cell_type": "markdown",
   "id": "86406e36",
   "metadata": {},
   "source": [
    "Let $\\Omega$ be on arbitrary space of a set of points and let $A$ and $B$ be subset of $\\Omega$"
   ]
  },
  {
   "cell_type": "markdown",
   "id": "bf7085a9",
   "metadata": {},
   "source": [
    "1. $A \\cap B$ = {$w : w \\in A$ and $w \\in B$}\n",
    "\n",
    "2. $A \\cup B$ = {$w: w \\in A$ or $w \\in B$}\n",
    "\n",
    "3. $A^{c}$ = {$w: w \\notin A$}\n",
    "\n",
    "4. $A\\setminus B$ = {$w: w \\in A$ and $w \\notin B$}\n",
    "\n",
    "5. $A \\Delta B$ = $(A \\setminus B)\\cup (B \\setminus A)$"
   ]
  },
  {
   "cell_type": "markdown",
   "id": "795e9a8f",
   "metadata": {},
   "source": [
    "## Definition 2.1"
   ]
  },
  {
   "cell_type": "markdown",
   "id": "a8482d9d",
   "metadata": {},
   "source": [
    "Let {$An, n = 1, 3, .... $} be a sequence of subset of $\\Omega$"
   ]
  },
  {
   "cell_type": "markdown",
   "id": "3f1ef98b",
   "metadata": {},
   "source": [
    "1. $\\overline{\\lim} A_n$ (the upper limit of {$A_n$}) is the set of all points $w$ which belongs to $A_n$ for infinitly many $n$\n",
    "\n",
    "(i.e $Vm, \\exists_n >= m$ such that $w \\in A_n$)\n",
    "\n",
    "2. $\\underline{\\lim} A_n$ (the lower limit of {$A_n$} is the subset of all points $w$ which belongs to all but finite number of $A_n$\n",
    "\n",
    "(i.e, $\\exists_n$ such that $ \\forall_n >= n_{0}, w \\in A_n$)"
   ]
  },
  {
   "cell_type": "markdown",
   "id": "32ba399f",
   "metadata": {},
   "source": [
    "- E.g 1\n",
    "\n",
    "$A_1$ = {1}, $A_2$ = {-1}, $A_3$ = {1}\n",
    "\n",
    "$\\limsup$ = 1, -1\n",
    "\n",
    "$\\liminf$ = $\\emptyset$\n"
   ]
  },
  {
   "cell_type": "markdown",
   "id": "43966f1d",
   "metadata": {},
   "source": [
    "E.g 2\n",
    "\n",
    "$A_1$ = {1, 2, 3, 5}, $A_2$ = {2, 3, 5} $A_3$ = {3, 5} $A_4$ = {5, 5, 5, 5}\n",
    "\n",
    "$\\limsup$ = 5\n",
    "\n",
    "$\\liminf$ = 5"
   ]
  },
  {
   "cell_type": "markdown",
   "id": "d9b310f6",
   "metadata": {},
   "source": [
    "## Definition 2.2"
   ]
  },
  {
   "cell_type": "markdown",
   "id": "b52cc278",
   "metadata": {},
   "source": [
    "Let {$A_n, n= 1, 2, ....$} be a subset of sequence of $\\Omega$"
   ]
  },
  {
   "cell_type": "markdown",
   "id": "da9d5941",
   "metadata": {},
   "source": [
    "1. $\\overline{\\lim}A_n$ = $\\limsup{A_n}$ = $\\underset{m=1}{\\overset{\\infty}{\\bigcap}} \\underset{m=1}{\\overset{\\infty}{\\bigcup}}{An}$\n",
    "\n",
    "2. $\\underline{\\lim}An$ = $\\liminf{An}$ = $\\underset{m=1}{\\overset{\\infty}{\\bigcup}}$ $\\underset{m=n}{\\overset{\\infty}{\\bigcap}} A_n$"
   ]
  },
  {
   "cell_type": "markdown",
   "id": "d6ffd97b",
   "metadata": {},
   "source": [
    "## Preposition 2.1"
   ]
  },
  {
   "cell_type": "markdown",
   "id": "0032f16a",
   "metadata": {},
   "source": [
    "$\\underline{\\lim}An \\subset \\overline{\\lim}An$"
   ]
  },
  {
   "cell_type": "markdown",
   "id": "7b2e1b7d",
   "metadata": {},
   "source": [
    "- $pf)$\n",
    "\n",
    "If $w \\in \\underline{\\lim}A_n$, there exist $m_0$ such that $w \\in \\underset{n=m}{\\overset{\\infty}{\\bigcap}}A_n$\n",
    "\n",
    "Since $ w \\in A_n$ for all $n >= m_0$, $w \\in \\underset{n=m}{\\overset{\\infty}{\\bigcup}}A_n$ for any $m$\n",
    "\n",
    "If $\\underline\\lim A_n = \\overline\\lim A_n$, we call $A_n$ converges to $\\lim A_n = \\underline\\lim A_n = \\overline\\lim A_n$ "
   ]
  },
  {
   "cell_type": "markdown",
   "id": "da6e31c4",
   "metadata": {},
   "source": [
    "## Definition 2.3"
   ]
  },
  {
   "cell_type": "markdown",
   "id": "a89a7099",
   "metadata": {},
   "source": [
    "A class <font face=\"cursive\">F</font> of subsets of $\\Omega$ is called a field if\n",
    "\n",
    "(1) $\\Omega \\in $ <font face=\"cursive\">F</font>\n",
    "\n",
    "(2) $A \\in $ <font face=\"cursive\">F</font> $\\Rightarrow$ $A^c \\in $ <font face=\"cursive\">F</font>\n",
    "\n",
    "(3) $A, B \\in$ <font face=\"cursive\">F</font>  $\\Rightarrow$ $A\\cup B \\in$ <font face=\"cursive\">F</font>"
   ]
  },
  {
   "cell_type": "markdown",
   "id": "837b1b9d",
   "metadata": {},
   "source": [
    "## Definition 2.4"
   ]
  },
  {
   "cell_type": "markdown",
   "id": "2a8372bc",
   "metadata": {},
   "source": [
    "A class <font face=\"cursive\">F</font> of subset of $\\Omega$ is called a $\\sigma - field$ if\n",
    "\n",
    "(1) $\\Omega \\in$ <font face=\"cursive\">F</font>\n",
    "\n",
    "(2) $A \\in$ <font face=\"cursive\">F</font> $\\Rightarrow A^c \\in$ <font face=\"cursive\">F</font>\n",
    "\n",
    "(3) $A_1, A_2, ... \\in$ <font face=\"cursive\">F</font> $\\Rightarrow \\bigcup A_n \\in$ <font face=\"cursive\">F</font>\n"
   ]
  },
  {
   "cell_type": "markdown",
   "id": "1b4835b1",
   "metadata": {},
   "source": [
    "- E.g 2.1\n",
    "\n",
    "(1) <font face=\"cursive\">F</font> = {$\\emptyset, \\Omega$} : The smalledt $\\sigma - field$ (or trival $\\sigma - field$ in $\\Omega$) \n",
    "\n",
    "(2) <font face=\"cursive\">F</font> = $2^\\Omega$ : The $\\sigma - field$ consisting of all subset of $\\Omega$ (the largest $\\sigma - field$ in $\\Omega$ \n",
    "\n",
    "(3) <font face=\"cursive\">F</font> = {$\\emptyset, \\Omega, A, A^c$} : The smallest $\\sigma - field$ containing $A \\in \\Omega$\n",
    "\n",
    "(4) Let <font face=\"cursive\">G</font> be a class of subset of $\\Omega$. If we devote $\\sigma$(<font face=\"cursive\">G</font>) as the intersection of all $\\sigma-field$ containing <font face=\"cursive\">G</font>, then $\\sigma$(<font face=\"cursive\">G</font>) is a $\\sigma-field$\n",
    "\n",
    "<font face=\"cursive\">G</font> = {$A, B, C$} , $A, B, C \\in \\Omega$"
   ]
  },
  {
   "cell_type": "markdown",
   "id": "2d8ab497",
   "metadata": {},
   "source": [
    "$\\sigma-field$ : Can difine 'the measure'"
   ]
  },
  {
   "cell_type": "markdown",
   "id": "8d684636",
   "metadata": {},
   "source": [
    "## Definition 2.5"
   ]
  },
  {
   "cell_type": "markdown",
   "id": "628ed382",
   "metadata": {},
   "source": [
    "A class <font face=\"cursive\">P</font> of subsets of $\\Omega$ is a $\\pi-system$ \n",
    "\n",
    "if $A, B \\in$ <font face=\"cursive\">P</font> implies $A \\cap B \\in$ <font face=\"cursive\">P</font>\n",
    "\n",
    "$\\Rightarrow A, B, C, A \\cap B, B \\cap C, C \\cap A, A\\cap B\\cap C$"
   ]
  },
  {
   "cell_type": "markdown",
   "id": "becdcf8e",
   "metadata": {},
   "source": [
    "## Definition 2.6"
   ]
  },
  {
   "cell_type": "markdown",
   "id": "f5f82ead",
   "metadata": {},
   "source": [
    "A class <font face=\"cursive\">L</font> of subset of $\\Omega$ is a $\\lambda-system$ if\n",
    "\n",
    "(1) $\\emptyset \\in$ <font face=\"cursive\">L</font>\n",
    "\n",
    "(2) $A \\in$ <font face=\"cursive\">L</font> $\\Rightarrow A^c \\in$ <font face=\"cursive\">L</font>\n",
    "\n",
    "(3) $A_1, A_2, ... \\in $ <font face=\"cursive\">L</font> and $A_n$'s are disjoint $\\Rightarrow \\underset{i=1}{\\overset{\\infty}{\\bigcup}}A_n \\in$ <font face=\"cursive\">L</font>"
   ]
  },
  {
   "cell_type": "markdown",
   "id": "75e774e9",
   "metadata": {},
   "source": [
    "## Preposition 2.3"
   ]
  },
  {
   "cell_type": "markdown",
   "id": "16d47b7b",
   "metadata": {},
   "source": [
    "If $E$ is both $\\pi$ and $\\lambda$ system then $E$ is a $\\sigma-field$ "
   ]
  },
  {
   "cell_type": "markdown",
   "id": "3fe23c9f",
   "metadata": {},
   "source": [
    "- $pf)$\n",
    "\n",
    "(1) $\\emptyset \\in E$\n",
    "\n",
    "(2) $A \\in E \\Rightarrow A^c \\in E$\n",
    "\n",
    "1, 2 are trivial\n",
    "\n",
    "(3) Suppose that $A_1, A_2, ... \\in E$, define $B_1 = A_2 - A_1, B_3 = A_3 - A_2 - A_1.$ Then $B_n \\in E$ and $B_n$'s are disjoint. From the property of $\\lambda-system, \\bigcup B_i = \\bigcup A_i \\in E$  "
   ]
  },
  {
   "cell_type": "markdown",
   "id": "f761494c",
   "metadata": {},
   "source": [
    "## Lemma 2.1"
   ]
  },
  {
   "cell_type": "markdown",
   "id": "4d0a13c1",
   "metadata": {},
   "source": [
    "Let $l$ be a $\\lambda-system$. Then for any $A \\in l$\n",
    "\n",
    "<font face=\"cursive\">G</font>$_A$ = {$B : A \\cap B \\in l$} is a $\\lambda-system$"
   ]
  },
  {
   "cell_type": "markdown",
   "id": "61cbabb1",
   "metadata": {},
   "source": [
    "$pf)$\n",
    "\n",
    "(1) $\\emptyset \\in$ <font face=\"cursive\">G</font>$_A$ (trivial)\n",
    "\n",
    "(2) Suppose that $B \\in$ <font face=\"cursive\">G</font>$_A$ then $A \\cap B \\in l$\n",
    "\n",
    "(3) Suppose $B_i \\in$<font face=\"cursive\">G</font>$_A$ are disjoint $\\Rightarrow B_i \\cap A \\in l$\n",
    "\n",
    "$\\underset{n}{\\overset{}{\\bigcup}}B_i \\in A = \\underset{i}{\\overset{}{\\bigcup}}(B_i \\in A) \\in l \\Rightarrow \\underset{i}{\\overset{}{\\bigcup}}B_i \\in$ <font face=\"cursive\">G</font>$_A$ \n",
    "\n"
   ]
  },
  {
   "cell_type": "markdown",
   "id": "fe99e505",
   "metadata": {},
   "source": [
    "## Lemma 2.2"
   ]
  },
  {
   "cell_type": "markdown",
   "id": "feb8d3bb",
   "metadata": {},
   "source": [
    "Let <font face=\"cursive\">P</font> be a $\\pi-system$ and $l$(<font face=\"cursive\">P</font>) be the smallest $\\lambda-system$ contaning <font face=\"cursive\">P</font>. Then,\n",
    "\n",
    "(1) For any $A \\in$ <font face=\"cursive\">P</font>, <font face=\"cursive\">P</font> $\\subset$ <font face=\"cursive\">G</font>$_A$ = {$B : A \\cap B \\in l$(<font face=\"cursive\">P</font>)}\n",
    "\n",
    "(2) For any $B \\in l$(<font face=\"cursive\">P</font>), $l$(<font face=\"cursive\">P</font>) $\\subset$ <font face=\"cursive\">G</font>$_B$ = {$A: A\\cap B \\in l$(<font face=\"cursive\">P</font>)}"
   ]
  },
  {
   "cell_type": "markdown",
   "id": "ee32eb6c",
   "metadata": {},
   "source": [
    "$pf)$\n",
    "\n",
    "(1) Because <font face=\"cursive\">P</font> is a $\\pi-system$ for any $ B\\in$ <font face=\"cursive\">P</font>, $B \\cap A \\in$ <font face=\"cursive\">P</font> is a $\\pi-system$ for any $B \\in$ <font face=\"cursive\">P</font>, $B \\subset A \\in$ <font face=\"cursive\">P</font> \n",
    "\n",
    "$\\therefore$ <font face=\"cursive\">P</font> $\\subset$ <font face=\"cursive\">G</font>$_A$"
   ]
  },
  {
   "cell_type": "markdown",
   "id": "bafbfe22",
   "metadata": {},
   "source": [
    "(2) For any $A \\in$ <font face=\"cursive\">P</font>, <font face=\"cursive\">P</font> $\\subset$ <font face=\"cursive\">G</font>$_A$ from (1) because <font face=\"cursive\">G</font>$_A$ is a $\\lambda-system$ from Lemma 2.1 $l$(<font face=\"cursive\">P</font>) $\\subset$ <font face=\"cursive\">G</font>$_A$\n",
    "\n",
    "This implies $A \\in$ <font face=\"cursive\">G</font>$_B$ become $A \\cup B \\in l$(<font face=\"cursive\">P</font>) (i.e <font face=\"cursive\">P</font> $\\subset$ <font face=\"cursive\">G</font>$_B$), because <font face=\"cursive\">G</font>$_B$ is a $\\lambda-system$ containing <font face=\"cursive\">P</font>.\n",
    "\n",
    "$\\therefore$ We have $l$(<font face=\"cursive\">P</font>) $\\subset$ <font face=\"cursive\">G</font>$_B$"
   ]
  },
  {
   "cell_type": "markdown",
   "id": "c84c0cc5",
   "metadata": {},
   "source": [
    "## Theorem 2.3"
   ]
  },
  {
   "cell_type": "markdown",
   "id": "7413a8c2",
   "metadata": {},
   "source": [
    "If <font face=\"cursive\">P</font> is a $\\lambda-system$ and <font face=\"cursive\">L</font> is $\\lambda-system$, then <font face=\"cursive\">P</font> $\\subset$ <font face=\"cursive\">L</font> implies $\\sigma$(<font face=\"cursive\">P</font>) $\\subset$ <font face=\"cursive\">L</font>"
   ]
  },
  {
   "cell_type": "markdown",
   "id": "9de3d6cc",
   "metadata": {},
   "source": [
    "$pf)$\n",
    "\n",
    "For any $B \\in l$(<font face=\"cursive\">P</font>), which means $l$(<font face=\"cursive\">P</font>) is a $\\pi-system$\n",
    "\n",
    "Because $l$(<font face=\"cursive\">P</font>) is both $\\pi$ and $\\lambda-system$.\n",
    "$l$(<font face=\"cursive\">P</font>) is $\\sigma-field$ containing <font face=\"cursive\">P</font> $\\Rightarrow \\sigma$(<font face=\"cursive\">P</font>) $\\subset l$(<font face=\"cursive\">P</font>) $\\subset$ <font face=\"cursive\">L</font> "
   ]
  }
 ],
 "metadata": {
  "kernelspec": {
   "display_name": "Python 3 (ipykernel)",
   "language": "python",
   "name": "python3"
  },
  "language_info": {
   "codemirror_mode": {
    "name": "ipython",
    "version": 3
   },
   "file_extension": ".py",
   "mimetype": "text/x-python",
   "name": "python",
   "nbconvert_exporter": "python",
   "pygments_lexer": "ipython3",
   "version": "3.9.13"
  }
 },
 "nbformat": 4,
 "nbformat_minor": 5
}
