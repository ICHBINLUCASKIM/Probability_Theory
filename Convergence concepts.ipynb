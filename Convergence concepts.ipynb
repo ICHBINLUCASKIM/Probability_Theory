{
 "cells": [
  {
   "cell_type": "markdown",
   "id": "6faac834",
   "metadata": {},
   "source": [
    "## 4. Convergence concepts"
   ]
  },
  {
   "cell_type": "markdown",
   "id": "85f5e215",
   "metadata": {},
   "source": [
    "a.e , $L^p$ two kinds of convergence\n",
    "\n",
    "- Probability convergence\n",
    "\n",
    "- Distribution convergence\n",
    "\n",
    "We will prove this sequentially\n",
    "\n"
   ]
  },
  {
   "cell_type": "markdown",
   "id": "adaa61fa",
   "metadata": {},
   "source": [
    "### 4.1 Various modes of convergence"
   ]
  },
  {
   "cell_type": "markdown",
   "id": "0a07abaa",
   "metadata": {},
   "source": [
    "#### Definition 4.1 (a.e convergence) "
   ]
  },
  {
   "cell_type": "markdown",
   "id": "2cc1f52b",
   "metadata": {},
   "source": [
    "The sequence of $r, v, {Xn}$ is said to converge a.e if $X_n(w) \\to X(w)$\n",
    "\n",
    "except on a null set $N$"
   ]
  },
  {
   "cell_type": "markdown",
   "id": "0ab39da5",
   "metadata": {},
   "source": [
    "#### Definition 4.2 (Convergence in probability)"
   ]
  },
  {
   "cell_type": "markdown",
   "id": "3a243fc4",
   "metadata": {},
   "source": [
    "The sequence of r,v {X_n} is said to converge in probability if\n",
    "\n",
    "$\\lim_{n\\to\\infty}P(|X_n - X| > E) = 0$ for $^\\forall{E} > 0$"
   ]
  },
  {
   "cell_type": "markdown",
   "id": "e89c3bdd",
   "metadata": {},
   "source": [
    "#### Definition 4.3 (Convergence in $L^P$)"
   ]
  },
  {
   "cell_type": "markdown",
   "id": "bc2506fc",
   "metadata": {},
   "source": [
    "The sequence of $r,v {X_n}$ is said to converge in $L^P, 0 < p < \\infty$\n",
    "\n",
    "if $\\lim_{n\\to\\infty}E(|X_n-X|^P) = 0$\n",
    "\n",
    "$+ \\alpha$\n",
    "\n",
    "$E({X_n}^p) \\to E(X^p)$ "
   ]
  },
  {
   "cell_type": "markdown",
   "id": "5875327a",
   "metadata": {},
   "source": [
    "#### Theorem 4.1"
   ]
  },
  {
   "cell_type": "markdown",
   "id": "3a38270d",
   "metadata": {},
   "source": [
    "$X_n \\to^{a.e} X \\iff ^\\forall{E} > 0, P(|X_n-X| > E, i.o) = 0 $\n",
    "\n",
    "$+\\alpha$\n",
    "\n",
    "$^\\forall{E}>0, ^\\exists{N} s.t |X_n(w)-X(w)|< E$ if n > N"
   ]
  },
  {
   "cell_type": "markdown",
   "id": "c1e014fd",
   "metadata": {},
   "source": [
    "$pf) (\\Rightarrow)$\n",
    "\n",
    "$X_n \\to^{a.e} X$ implies $|X_n(w_0)-X(w_0)| \\leq E$ for $w_0 \\in \\Omega_0$ with $P(\\Omega_0) = 1$\n",
    "\n",
    "That is, there exist an integer $m(E,w_0)$ s.t $|X_n(w_0) - X(w_0)| \\leq E$\n",
    "\n",
    "for $n \\geq m (E, w_0)$\n",
    "\n",
    "$\\Rightarrow w_0 \\in \\underset{n=m(E,w_0)}{\\overset{\\infty}{\\bigcap}}\\{w:|X_n(w)- X(w)| \\leq E\\} \\subset \\bigcup_{m=1}^\\infty\\bigcap_{n=m}^\\infty\\{w: |X_n(w) - X(w) \\leq E\\}$\n",
    "\n",
    ": trivial\n",
    "\n",
    "$\\Rightarrow \\Omega_0 \\subset \\bigcup_{m=1}^\\infty\\bigcap_{n=m}^\\infty\\{w: |X_n(w) - X(w) \\leq E\\}$\n",
    "\n",
    "$\\Rightarrow 1= P(\\Omega_o) \\leq P(\\bigcup_{m=1}^\\infty\\bigcap_{n=m}^\\infty\\{w: |X_n(w) - X(w) \\leq E\\})$\n",
    "\n",
    "$\\Rightarrow P(|X_n-X| > E,i.o) = 0$"
   ]
  },
  {
   "cell_type": "markdown",
   "id": "bfcddd0a",
   "metadata": {},
   "source": [
    "$(\\Leftarrow)$\n",
    "\n",
    "if $P(|X_n-X|>E, i.o) = 0$ for any $ E>0$\n",
    "\n",
    "then $P(\\bigcup_{m=1}^\\infty\\bigcap_{n=m}^\\infty\\{w: |X_n(w) - X(w) \\leq E\\}) = 1$\n",
    "\n",
    "That is, $P(A(E)) = 1, where, A(E) = \\bigcup_{m=1}^\\infty\\bigcap_{n=m}^\\infty\\{w: |X_n(w) - X(w) \\leq E\\}$\n",
    "\n",
    "For any integer $k \\leq 1, P(A(\\frac{1}{k})=1, A(\\frac{1}{k})$ is a decreasing sequence of sets, and $lim_{k\\to\\infty}P(A(\\frac{1}{k})) = P(\\bigcap_{k=1}^{\\infty}A(\\frac{1}{k}))=1$"
   ]
  },
  {
   "cell_type": "markdown",
   "id": "48927414",
   "metadata": {},
   "source": [
    "$+\\alpha$\n",
    "\n",
    "$x \\leq \\frac{1}{1}, x \\leq \\frac{1}{2}$\n",
    "\n",
    "$lim_{k\\to\\infty}P(A(\\frac{1}{k})) = P(\\bigcap_{k=1}^{\\infty}A(\\frac{1}{k}))=1$\n",
    "\n",
    "important"
   ]
  },
  {
   "cell_type": "markdown",
   "id": "493b789d",
   "metadata": {},
   "source": [
    "If $w_0 \\in \\bigcap_{k=1}^{\\infty}A(\\frac{1}{k})$, then for any $E >0$ ,then exist on integer $m(E,W_0)$ s.t $|X_n(w_0)-X(w_0)| \\leq E$ for all $n \\leq m(E,w_0)$"
   ]
  },
  {
   "cell_type": "markdown",
   "id": "21a7fa4c",
   "metadata": {},
   "source": [
    "$+\\alpha$\n",
    "\n",
    "E = 0.00001\n",
    "\n",
    "k = 100000"
   ]
  },
  {
   "cell_type": "markdown",
   "id": "e4c40be1",
   "metadata": {},
   "source": [
    "#### Corollary 4.1 "
   ]
  },
  {
   "cell_type": "markdown",
   "id": "e700a937",
   "metadata": {},
   "source": [
    "for convinence, $\\{|X_n-X| > E\\} = \\{w: |X_n(w) - X(w) > E\\}$\n",
    "\n",
    "\n",
    "If $\\sum_{n=1}^\\infty P(|X_n-X| > E) < \\infty,$ then $X_n \\to^{a.e} X$"
   ]
  },
  {
   "cell_type": "markdown",
   "id": "8ab377d4",
   "metadata": {},
   "source": [
    "$Pf)$\n",
    "\n",
    "Apply first Borel-Cantelli Lemma"
   ]
  },
  {
   "cell_type": "markdown",
   "id": "f37f7295",
   "metadata": {},
   "source": [
    "#### Corollary 4.2"
   ]
  },
  {
   "cell_type": "markdown",
   "id": "5383693e",
   "metadata": {},
   "source": [
    "$X_n \\to^{a.e} X$ implies $X_n \\to^p X$"
   ]
  },
  {
   "cell_type": "markdown",
   "id": "8ba7dd38",
   "metadata": {},
   "source": [
    "$Pf)$\n",
    "\n",
    "For any $E>0$,\n",
    "\n",
    "0 = $P(\\bigcup_{m=1}^\\infty\\bigcap_{n=m}^\\infty\\{|X_n - X > E\\})$ = $\\lim_{n\\to\\infty}P(\\bigcup_{m=1}^\\infty\\{|X_n - X) > E\\})$\n",
    "\n",
    "$ \\geq \\lim_{n\\to\\infty}P(|X_n(w) - X(w) > E)$"
   ]
  },
  {
   "cell_type": "markdown",
   "id": "e153a6e1",
   "metadata": {},
   "source": [
    "#### Example 4.1"
   ]
  },
  {
   "cell_type": "markdown",
   "id": "6b64845f",
   "metadata": {},
   "source": [
    "$X_n \\to^p X$ but $X_n \\to^{a.e} X$ "
   ]
  },
  {
   "cell_type": "markdown",
   "id": "c62e4aff",
   "metadata": {},
   "source": [
    "$X_n ~ b(1, \\frac{1}{n})$ and $X_n$'s are independent"
   ]
  },
  {
   "cell_type": "markdown",
   "id": "72d11d1e",
   "metadata": {},
   "source": [
    "\n",
    "\n",
    "(i) $X_n \\to^p 0$\n",
    "\n",
    "$\\because P(|X_n -0|>E) = P(X_n = 1) = \\frac{1}{n} \\to 0$\n",
    "\n",
    "\n",
    "(ii) $X_n \\to^{a.e}_{not} 0$\n",
    "\n",
    "$P(\\bigcup_{k=n}^\\infty\\{|X_k|>E\\}) = \\lim_{M\\to\\infty}P(\\bigcup_{k=n}^{M}\\{|X_k|>E\\})$\n",
    "\n",
    "$= 1 - \\lim_{M\\to\\infty}P(\\bigcap_{k=n}^{M}\\{|X_k|>E\\})$ : finite variable is important (infinite X)\n",
    "\n",
    "$= 1 - \\lim_{M\\to\\infty}\\Pi_{k=n}^M P({|X_k| \\leq E})$\n",
    "\n",
    "$= 1 - \\lim_{M\\to\\infty}\\Pi_{k=n}^M P(1 - \\frac{1}{k})$\n",
    "\n",
    "$= 1 - \\lim_{M\\to\\infty}\\frac{n-1}{M} = 1$\n"
   ]
  },
  {
   "cell_type": "markdown",
   "id": "f16f7c7b",
   "metadata": {},
   "source": [
    "#### Theorem 4.2 (Markov's inequality)"
   ]
  },
  {
   "cell_type": "markdown",
   "id": "a2771d59",
   "metadata": {},
   "source": [
    "For any $r, v X, P > 0$ and $\\alpha > 0, P(|X| \\leq \\alpha) \\geq \\frac{E|X|^p}{\\alpha^p}$"
   ]
  },
  {
   "cell_type": "markdown",
   "id": "4e07b559",
   "metadata": {},
   "source": [
    "$pf)$\n",
    "\n",
    "$P(|X|\\geq \\infty) = \\int_{|X|\\geq\\alpha}dp \\leq \\inf_{|X|\\geq\\alpha}\\frac{|X|^p}{\\alpha^p}dp$ $\\leq \\frac{|X|^p}{\\alpha^p}dp = E(\\frac{|X|^p}{\\alpha^p})$\n",
    "\n",
    "as a special case,\n",
    "\n",
    "$P(|X-E(X)| \\geq \\alpha) \\leq \\frac{E((X-E(X))^2}{\\alpha^2} = \\frac{var(X)}{\\alpha^2}$"
   ]
  },
  {
   "cell_type": "markdown",
   "id": "a55f1fc0",
   "metadata": {},
   "source": [
    "#### Theorem 4.3"
   ]
  },
  {
   "cell_type": "markdown",
   "id": "cef7940d",
   "metadata": {},
   "source": [
    "$X_n \\to^{L^p} X $ implies $X_n \\to^{p} X$"
   ]
  },
  {
   "cell_type": "markdown",
   "id": "829a9152",
   "metadata": {},
   "source": [
    "$pf)$\n",
    "\n",
    "$P(|X_n-X| > E) \\leq \\frac{E(|X_n - X|^p)}{E^p} \\to 0$"
   ]
  },
  {
   "cell_type": "markdown",
   "id": "ca1a9c45",
   "metadata": {},
   "source": [
    "#### Examples 4.4 ( $X_n \\to^p X$ but $X_n \\to^{L^p}_{not} X$)"
   ]
  },
  {
   "cell_type": "markdown",
   "id": "88b566c3",
   "metadata": {},
   "source": [
    "Suppose $X_n$ is a sequence of r, v, s satisfying $P(X_n = n) = \\frac{1}{n}, P(X_n = 0) = 1 - \\frac{1}{n}$\n",
    "\n",
    "Then $X \\to^p 0$ but $E|X_n - 0| = 1,  ^\\forall n$\n",
    "\n",
    "$+$\n",
    "\n",
    "$P(|X_n-0| > E) = P(X_n > E) = \\frac{1}{n} \\to 0$"
   ]
  },
  {
   "cell_type": "markdown",
   "id": "10a4ef1e",
   "metadata": {},
   "source": [
    "#### Theorem 4.4 (Uniqueness of the limit)"
   ]
  },
  {
   "cell_type": "markdown",
   "id": "90913ada",
   "metadata": {},
   "source": [
    "(1) If $X_n \\to^{a.e} X$ and $X_n \\to^{a.e} Y$, then $X  = Y$ a.e\n",
    "\n",
    "(2) If $X_n \\to^{p}$ X and $X_n \\to^p Y,$ then $X = Y$ a.e"
   ]
  },
  {
   "cell_type": "markdown",
   "id": "df395e1c",
   "metadata": {},
   "source": [
    "$Pf)$\n",
    "\n",
    "(2) $(X \\neq Y) = \\bigcup_{m=1}^\\infty(|X-Y| > \\frac{1}{m}) = \\bigcup_{m=1}^{\\infty}(|X-X_n + X_n + Y| > \\frac{1}{m})$\n",
    "\n",
    "$\\subset \\bigcup_{m=1}^\\infty[(|X-X_n|>\\frac{1}{2m}) \\cup(|X_n - Y| > \\frac{1}{2m})]$\n",
    "\n",
    "$ = [\\bigcup_{m=1}^\\infty(|X-X_n| > \\frac{1}{2m})] \\cup [\\bigcup_{m=1}^{\\infty}(|X_n - Y| > \\frac{1}{2m})]$\n",
    "\n",
    "$ \\Rightarrow P(X \\neq Y) \\leq P(\\bigcup_{m=1}^\\infty(|X-X_n| > \\frac{1}{2m})) + P(\\bigcap_{m=1}^\\infty(|X_n-Y| > \\frac{1}{2m}))$\n",
    "\n",
    "$ P(X_n \\to_{not} X) + P(X_n \\to_{not} Y)$"
   ]
  },
  {
   "cell_type": "markdown",
   "id": "a1ba2fd7",
   "metadata": {},
   "source": [
    "$+$\n",
    "\n",
    "$|X - X_n + X_n - Y| > \\frac{1}{m}$\n",
    "\n",
    "$\\Downarrow$\n",
    "\n",
    "$|X - X_n| + |X_n - Y| > \\frac{1}{m}$\n",
    "\n",
    "$\\Downarrow$\n",
    "\n",
    "$|X-X_n|> \\frac{1}{2m}$ for $|X_n-Y| > \\frac{1}{2m}$\n",
    "\n"
   ]
  },
  {
   "cell_type": "markdown",
   "id": "eab6bf69",
   "metadata": {},
   "source": [
    "#### Theorem 4.5"
   ]
  },
  {
   "cell_type": "markdown",
   "id": "1ff23d77",
   "metadata": {},
   "source": [
    "(1) $X_n \\to^p X \\Rightarrow f(X_n) \\to^p f(x)$ for any continuous function $f$\n",
    "\n",
    "(2) $X_n \\to^{a.e} X \\Rightarrow f(X_n) \\to^{a.e.} f(x)$ for any continuous function $f$\n"
   ]
  },
  {
   "cell_type": "markdown",
   "id": "521db371",
   "metadata": {},
   "source": [
    "#### Theorem 4.6"
   ]
  },
  {
   "cell_type": "markdown",
   "id": "b79ec360",
   "metadata": {},
   "source": [
    "If $X_n \\to^p X$, then exist on subsequence ${n_k} \\subset {n}$ such that $X_k \\to^{a.e} X$"
   ]
  },
  {
   "cell_type": "markdown",
   "id": "8aa10543",
   "metadata": {},
   "source": [
    "$+$\n",
    "\n",
    "square $\\frac{1}{p}$\n",
    "\n",
    "${E|X|^p}^\\frac{1}{p}  = L^p$\n",
    "\n",
    "${E(|X|^q)^\\frac{p}{q}}^\\frac{1}{P} = L^q$\n"
   ]
  },
  {
   "cell_type": "markdown",
   "id": "76b84160",
   "metadata": {},
   "source": [
    "### Corollony 4.3\n"
   ]
  },
  {
   "cell_type": "markdown",
   "id": "b70888d4",
   "metadata": {},
   "source": [
    "$X_n \\to^{L_q} X \\Rightarrow X_n \\to^{L_p}, 1 \\leq p \\leq q$ "
   ]
  },
  {
   "cell_type": "markdown",
   "id": "65ddbdd0",
   "metadata": {},
   "source": [
    "### Theorem 4.9 (Minkovski's inequality)"
   ]
  },
  {
   "cell_type": "markdown",
   "id": "76b1fb22",
   "metadata": {},
   "source": [
    "If $E|X|^p = X,Y \\in L^p < \\infty, and E|Y|^p < \\infty$ for $1 \\leq < \\infty$\n",
    "\n",
    "Then $E|X+Y|^p = X + Y \\in L^p < \\infty$ and $||X+Y||_p \\leq ||X||_p + ||Y||_p$"
   ]
  },
  {
   "cell_type": "markdown",
   "id": "2f6e35b7",
   "metadata": {},
   "source": [
    "Pf)\n",
    "\n",
    "When $p=1$ then inequality holds frome triangle inequality\n",
    "\n",
    "Assume $P>1$ and defice $p' = \\frac{p}{p-1},$ then $\\frac{1}{p} + \\frac{1}{p'} = 1$\n",
    "\n",
    "From triangle inequality\n",
    "\n",
    "$|X+Y|^p = |X+Y|^{p-1}|X+Y| \\leq |X+Y|^{p-1} + |X+Y|^{p-1}|Y|$\n",
    "\n",
    "From Hölder's inequality\n",
    "\n",
    "$E|X+Y|^p \\leq E(|X+Y|^{p-1}|X|) +E(|X+Y|^{p-1}|Y|)$\n",
    "\n",
    "$\\leq (E|X+Y|^{p-1p'})^\\frac{1}{p}(E|X|^p)^\\frac{1}{p} + (E|X+Y|^{p-1p'})^\\frac{1}{p}(E|Y|^p)^\\frac{1}{p}$\n",
    "\n",
    "$=(E(|X+Y|^p))^\\frac{1}{p'}[(E|X|^p)^\\frac{1}{p} + (E|Y|^p)^\\frac{1}{p}$\n",
    "\n",
    "$\\Rightarrow (E|X+Y|^p)^{-\\frac{1}{p'}} \\leq (E|X|^p)^\\frac{1}{p} + E(|Y|^p)^\\frac{1}{p}$\n",
    "\n",
    "So,  **||𝑋+𝑌||𝑝 ≤ ||𝑋||𝑝 + ||𝑌||𝑝**"
   ]
  },
  {
   "cell_type": "markdown",
   "id": "c074c9e0",
   "metadata": {},
   "source": [
    "### Theorem 4.10 (Jenson's inequality)"
   ]
  },
  {
   "cell_type": "markdown",
   "id": "3bda2585",
   "metadata": {},
   "source": [
    "If $\\emptyset$ is convex, and $X$ and $\\emptyset(X)$ are integrable,\n",
    "\n",
    "Then $E(\\emptyset(X)) \\geq \\emptyset(E(X))$"
   ]
  },
  {
   "cell_type": "markdown",
   "id": "38543be0",
   "metadata": {},
   "source": [
    "## 4.3 Convergence in distribution"
   ]
  },
  {
   "cell_type": "markdown",
   "id": "d4095c9f",
   "metadata": {},
   "source": [
    "### Def 4.4"
   ]
  },
  {
   "cell_type": "markdown",
   "id": "1522a3de",
   "metadata": {},
   "source": [
    "A measure µ on $(\\mathbb{R},\\beta)$ with µ($\\mathbb R) \\leq 1$ is called a subprobability measure (s.p.m)"
   ]
  },
  {
   "cell_type": "markdown",
   "id": "2a67591c",
   "metadata": {},
   "source": [
    "### Def 4.5"
   ]
  },
  {
   "cell_type": "markdown",
   "id": "12716255",
   "metadata": {},
   "source": [
    "A Sequence of $s,p,m µ_n$'s is called to converge vaguely to a $s,p,m$ µ if and only \n",
    "\n",
    "if $µ_n[(a, b]] \\to µ((a,b])$ for all $a < b$"
   ]
  },
  {
   "cell_type": "markdown",
   "id": "e2cf97cf",
   "metadata": {},
   "source": [
    "### Remarks"
   ]
  },
  {
   "cell_type": "markdown",
   "id": "520801ab",
   "metadata": {},
   "source": [
    "1. A concrete definition of the vague convergence only requires that $µ_n((a, b]) \\to µ((a,b])$ for all $a, b \\in D$, where $D$ in a dense set of $\\mathbb R$ \n",
    "\n",
    "finite number, infinite number = e.g of dense sets\n",
    "\n",
    "2. If $µ_n$ and µ are probability measure, vague convergence is called **weak convergence**\n",
    "\n",
    "3. As another definition for vague convergence, some books use the following definition: A sequence of s.p.m $µ_n$ vaguely converge to s.p.m µ \n",
    "\n",
    "iff $\\int f(x)dµ_n(x) \\to \\int f(x)dµ(x)$ for every continuous and bounded function $f$"
   ]
  },
  {
   "cell_type": "markdown",
   "id": "6b89973f",
   "metadata": {},
   "source": [
    "- Should know between vague convergence, weak convergence and convergence distribution "
   ]
  },
  {
   "cell_type": "markdown",
   "id": "dd5f98ed",
   "metadata": {},
   "source": [
    "### Def 4.6 (Convergence in distribution)"
   ]
  },
  {
   "cell_type": "markdown",
   "id": "b66375d5",
   "metadata": {},
   "source": [
    "The sequence of $r,v,\\{X_n\\}$ is said to converge to $X$ in distribution \n",
    "\n",
    "if $F_{X_n}(X) = P(X_n \\leq x) \\to P(X \\leq x) = F_x(x)$\n",
    "\n",
    "**for all continuous points of** $F_x(x)$"
   ]
  },
  {
   "cell_type": "markdown",
   "id": "77d1cd8f",
   "metadata": {},
   "source": [
    "### Remark"
   ]
  },
  {
   "cell_type": "markdown",
   "id": "367261cb",
   "metadata": {},
   "source": [
    "Weak convergence and convergence in distribution are the same concept"
   ]
  },
  {
   "cell_type": "markdown",
   "id": "55f58f77",
   "metadata": {},
   "source": [
    "### Theorem 4.11"
   ]
  },
  {
   "cell_type": "markdown",
   "id": "49974e18",
   "metadata": {},
   "source": [
    "If $X_n \\to^p X$, then $X_n \\to^d X$"
   ]
  },
  {
   "cell_type": "markdown",
   "id": "bb6ac1ba",
   "metadata": {},
   "source": [
    "Pf)\n",
    "\n",
    "Let x be a continuous point of X\n",
    "\n",
    "For any $E > 0$ and each $n$, $F_n(X) = P(X_n \\leq x)$\n",
    "\n",
    "$= P(X_n \\leq x, |X_n - X| \\leq E) + P(X_n \\leq x, |X_n-X| > E)$\n",
    "\n",
    "$\\leq P(X\\leq x + E) + P(|X_n-X| > E)$ ... 1"
   ]
  },
  {
   "cell_type": "markdown",
   "id": "d6f282d2",
   "metadata": {},
   "source": [
    "$F_x(x-E) = P(x \\leq x - E)$\n",
    "\n",
    "$P(X\\leq x - E, |X_n-X| \\leq E) + P(X\\leq x-E, |X_n - X| > E)$\n",
    "\n",
    "$\\leq P(X_n \\leq x) + P(|X_n - X|>E)$\n",
    "\n",
    "$= F_{X_n}(x) + P(|X_n - X| > E)$ ... 2"
   ]
  },
  {
   "cell_type": "markdown",
   "id": "45f3c9e6",
   "metadata": {},
   "source": [
    "$\\Rightarrow F_x(x-E) - P(|X_n-X|>E) \\leq F_n(x) \\leq F(x+E) + P(|X_n-X|>E)$\n",
    "\n",
    "$F_x(x-E) \\leq \\lim\\inf F_n(x) \\leq \\lim\\sup F_n(x) \\leq F(x+E)$\n",
    "\n",
    "$F_x(x) \\ \\leq \\lim\\inf F_n(x) \\leq \\lim\\sup F_n(x) \\leq F(x)$\n",
    "\n",
    "$F(x) = \\lim F_n(x)$ for all cotinuity points fo $F$"
   ]
  },
  {
   "cell_type": "markdown",
   "id": "f8b212df",
   "metadata": {},
   "source": [
    "#### Exmaple ($X_n \\to^d X$ but $X_n \\to^p_{not} X$) "
   ]
  },
  {
   "cell_type": "markdown",
   "id": "4ede2137",
   "metadata": {},
   "source": [
    "$ X , Y$ ~$^{iid} N(0,1)$"
   ]
  },
  {
   "cell_type": "markdown",
   "id": "00e5f0a3",
   "metadata": {},
   "source": [
    "$ \n",
    "X_n = \\left\\{\n",
    "\\begin{aligned}\n",
    "& X & if && n = odd \\\\\n",
    "& Y & if && n = even \n",
    "\\end{aligned}\n",
    "\\right.\n",
    "$\n",
    "\n",
    "$\\Rightarrow X_n \\to^d N(|a|) = X$\n",
    "\n",
    "but $X_n \\to^p_{not} X$"
   ]
  },
  {
   "cell_type": "markdown",
   "id": "10e2f31d",
   "metadata": {},
   "source": [
    "### Lemma 4.12"
   ]
  },
  {
   "cell_type": "markdown",
   "id": "e652509b",
   "metadata": {},
   "source": [
    "If $X_n \\to^a c$ for a constant c, then $X_n \\to^p c$"
   ]
  },
  {
   "cell_type": "markdown",
   "id": "7aa5fe7d",
   "metadata": {},
   "source": [
    "Pf)\n",
    "\n",
    "$X_n \\to^d c$ means that $F_n(x)$ converges to\n",
    "\n",
    "$ \n",
    "F(x) = \\left\\{\n",
    "\\begin{aligned}\n",
    "& 0 & if && x < c \\\\\n",
    "& 1 & if && x \\geq c \n",
    "\\end{aligned}\n",
    "\\right.\n",
    "$\n",
    "\n",
    "Now for any $E>0$\n",
    "\n",
    "$P(|X_n-c|>E) = P(X_n\\leq c-E) + P(X_n > C+E)$\n",
    "\n",
    "$\\leq F_{x_n}(c-E) + 1 -F_{X_n}(c+E)$\n",
    "\n",
    "$\\to F_x(c-E) + 1 - F_x(c+E) \\to 0$"
   ]
  },
  {
   "cell_type": "markdown",
   "id": "f8ba3d8e",
   "metadata": {},
   "source": [
    "### Theorem 4.13"
   ]
  },
  {
   "cell_type": "markdown",
   "id": "319e7bb5",
   "metadata": {},
   "source": [
    "1. If $X_n \\to^d X$ and $Y \\to^p c$ then $X_n + Y_n \\to^d X+e$\n",
    "2. If $X_n \\to^d X$ and $Y \\to^p c$ then $X_nY_n \\to^d e^X$"
   ]
  },
  {
   "cell_type": "markdown",
   "id": "aa8e0853",
   "metadata": {},
   "source": [
    "Pf)\n",
    "\n",
    "WLOG, We assume c = 0\n",
    "\n",
    "1. \n",
    "\n",
    "$F_{X_n+Y_n} = P(X_n + Y_n \\leq Z) = P(X_n + Y_n \\leq Z, |Y_n|\\leq E) + P(X_n + Y_n \\leq Z, |Y_n|>E) \\leq P(X_n \\leq Z+E) + P(|Y_n|>E)$ ... 1\n",
    "\n",
    "$P(X_n \\leq Z-E) = P(X_n\\leq Z-E)|Y_n|\\leq E) + P(X_n \\leq Z-E, |Y_n|>E) \\leq P(X_n \\leq Z-Y_n) + P(|Y_n|>E) = P(X_n+Y_n \\leq Z) + P(|Y_n|>E) = F_{X_n+Y_n}(Z) + P(|Y_n|>E)$\n",
    "...2\n",
    "\n"
   ]
  },
  {
   "cell_type": "markdown",
   "id": "80307f83",
   "metadata": {},
   "source": [
    "By ...1 and ...2\n",
    "\n",
    "$P(X_n \\leq Z-E) - P(|Y_n|>E) \\leq P(X_n + Y_n \\leq Z) \\leq P(X_n Z + E) + P(|Y_n| > E)$\n",
    "\n",
    "Taking $n\\to\\infty$ and then $E\\downarrow 0 finished the proof."
   ]
  },
  {
   "cell_type": "markdown",
   "id": "25f6cf19",
   "metadata": {},
   "source": [
    "2. Let $E$ and $M$ be positive real numbers\n",
    "\n",
    "$P(|X_nY_n|>E) = P(|X_nY_n|>E,|Y_n|\\leq M) + P(|X_nY_n|>E,|Y_n|>M)$\n",
    "\n",
    "$\\leq P(|X_n|>\\frac{E}{M}) + P(|Y_n|>M)$\n",
    "\n",
    "Taking $n\\to\\infty$ and then $M\\downarrow 0 $ finishes the proof"
   ]
  },
  {
   "cell_type": "markdown",
   "id": "a0254017",
   "metadata": {},
   "source": [
    "$+$\n",
    "\n",
    "$P(|X_n|>\\frac{E}{M}) \\to P(|X| > \\frac{E}{M}) \\to 0$"
   ]
  },
  {
   "cell_type": "markdown",
   "id": "3d930a7f",
   "metadata": {},
   "source": [
    "## Recap"
   ]
  },
  {
   "cell_type": "markdown",
   "id": "49bc8cfd",
   "metadata": {},
   "source": [
    "$ X_n \\to^p X, X_n \\to^p Y \\Rightarrow X =^{a.e} Y$\n",
    "\n",
    "$ X_n \\to^{a.e} X, X_n \\to^{a.e} Y \\Rightarrow X =^{a.e} Y$"
   ]
  },
  {
   "cell_type": "markdown",
   "id": "e5293e7d",
   "metadata": {},
   "source": [
    "$P(\\lim{X_n} = X) = 1 \\iff P(|X_n - X| > E, i.o) = 0$ for any $E > 0$\n",
    "\n",
    "$1 = P(\\bigcup_{n=1}^\\infty\\bigcap_{m=n}^\\infty\\{w:|X_n(w)-X(w)| \\leq E\\}$ for any $E > 0$\n",
    "\n",
    "$A(\\frac{1}{k}) = \\bigcup_{n=1}^\\infty\\bigcap_{m=n}^\\infty\\{w:|X_n(w)-X(w)| \\leq \\frac{1}{k}\\}$"
   ]
  },
  {
   "cell_type": "markdown",
   "id": "fca3de41",
   "metadata": {},
   "source": [
    "$A = \\bigcup_{k=1}^\\infty A(\\frac{1}{k}) = \\bigcap_{k=1}^\\infty\\bigcup_{n=1}^\\infty\\bigcap_{m=n}^\\infty\\{w:|X_n(w)-X(w)| \\leq \\frac{1}{k}\\}P(A) = 1$\n",
    "\n",
    "$ w \\in A(E) \\Rightarrow P(\\lim X_n = X) = 1$\n",
    "\n",
    "$ ^\\exists{n}(E,w) \\{w:|X_n(w)-X(w)| \\leq E\\}$ when $n \\geq n(E,w)$\n",
    "\n",
    "$ \\Rightarrow X_n(w) \\to X(w)$\n",
    "\n",
    "$ \\Rightarrow P(\\{w: X_n(w) \\to X(w)\\}) = 1$"
   ]
  },
  {
   "cell_type": "markdown",
   "id": "c0cd7dc4",
   "metadata": {},
   "source": [
    "$E|X_n - X|^p \\to 0$\n",
    "\n",
    "$X\\in L^p \\iff E|X|^p < \\infty, P \\geq 1$\n",
    "\n",
    "$EX^2 < \\infty \\to (E|X|^p)^{\\frac{1}{p}} = ||X||_p \\to norm$\n",
    "\n",
    "$X\\in L^2 \\Rightarrow X\\in L^2$"
   ]
  },
  {
   "cell_type": "markdown",
   "id": "abd2c37f",
   "metadata": {},
   "source": [
    "- Def of norm\n",
    "\n",
    "$||X|| \\to ||X|| \\geq 0$\n",
    "\n",
    "$||X|| = 0 \\iff X = 0$\n",
    "\n",
    "$||X-Y|| \\leq ||X-Z|| + ||X - Y||$\n"
   ]
  },
  {
   "cell_type": "markdown",
   "id": "6a7f79c8",
   "metadata": {},
   "source": [
    "## 4.2 Some important inequality"
   ]
  },
  {
   "cell_type": "markdown",
   "id": "5a0e7e8c",
   "metadata": {},
   "source": [
    "### Theorem 4.7(Hölder's inequality)"
   ]
  },
  {
   "cell_type": "markdown",
   "id": "b7c547a6",
   "metadata": {},
   "source": [
    "For $r,v, X$ and $Y, E|XY| \\leq (E|X|^p)^{\\frac{1}{p}}(E|Y|^{p'})^\\frac{1}{p'}$\n",
    "\n",
    "For $\\frac{1}{p} + \\frac{1}{p'} = 1$ and $p>1, p'>1$"
   ]
  },
  {
   "cell_type": "markdown",
   "id": "8efd29e7",
   "metadata": {},
   "source": [
    "Pf)\n",
    "\n",
    "When $E|X| = 0$, or $E|Y| = 0$, then inequality holds\n",
    "\n",
    "Assume $E|X|$ $\\neq 0 \\neq E|Y|$\n",
    "\n",
    "WLOG, $(E|X|^p)^{\\frac{1}{p}} = ||X||_p = (E|Y|^{p'})^\\frac{1}{p'} = 1$\n",
    "\n",
    "From homework, $|XY| \\leq \\frac{|X|^p}{p} + \\frac{|Y|^{p'}}{p'}$\n",
    "\n",
    "$\\Rightarrow E|XY| \\leq \\frac{E|X|^p}{p} + \\frac{E|Y|^{p'}}{p'}$"
   ]
  },
  {
   "cell_type": "markdown",
   "id": "680ea642",
   "metadata": {},
   "source": [
    "### Theorem 4.8 (Liapounov inequality)"
   ]
  },
  {
   "cell_type": "markdown",
   "id": "c4008c8d",
   "metadata": {},
   "source": [
    "For any 1 < p < q, $(E|X|^p)^\\frac{1}{p} \\leq (E|X|^q)^\\frac{1}{q}$"
   ]
  },
  {
   "cell_type": "markdown",
   "id": "ac48f71d",
   "metadata": {},
   "source": [
    "Pf)\n",
    "\n",
    "Let $\\alpha = \\frac{q}{p}, \\beta = \\frac{q}{q-p}$, then $\\frac{1}{\\alpha} + \\frac{1}{\\beta} = \\frac{p}{q} + \\frac{q-p}{q} = 1$\n",
    "\n",
    "Apply Hölder's inequality for Y = 1 and X = $|X|^p$\n",
    "\n",
    "$E|X|^p = E||X|^pY| \\leq (E(|X|^{p\\alpha})^frac{1}{\\alpha}(E(Y^\\beta))^\\frac{1}{\\beta} = E(|X|^q)^\\frac{p}{q}$\n",
    "\n",
    "$\\Rightarrow (E|X|^p)^\\frac{1}{p} \\leq (E|X|^q)^\\frac{1}{q}$"
   ]
  },
  {
   "cell_type": "markdown",
   "id": "4a0a82bd",
   "metadata": {},
   "source": [
    "$+$\n",
    "\n",
    "square $\\frac{1}{p}$\n",
    "\n",
    "${E|X|^p}^\\frac{1}{p}  = L^p$\n",
    "\n",
    "${E(|X|^q)^\\frac{p}{q}}^\\frac{1}{P} = L^q$\n"
   ]
  },
  {
   "cell_type": "markdown",
   "id": "e0a83395",
   "metadata": {},
   "source": [
    "### Corollony 4.3\n"
   ]
  },
  {
   "cell_type": "markdown",
   "id": "42e49bca",
   "metadata": {},
   "source": [
    "$X_n \\to^{L_q} X \\Rightarrow X_n \\to^{L_p}, 1 \\leq p \\leq q$ "
   ]
  },
  {
   "cell_type": "markdown",
   "id": "9b72909f",
   "metadata": {},
   "source": [
    "### Theorem 4.9 (Minkovski's inequality)"
   ]
  },
  {
   "cell_type": "markdown",
   "id": "9c2b6ac8",
   "metadata": {},
   "source": [
    "If $E|X|^p = X,Y \\in L^p < \\infty, and E|Y|^p < \\infty$ for $1 \\leq < \\infty$\n",
    "\n",
    "Then $E|X+Y|^p = X + Y \\in L^p < \\infty$ and $||X+Y||_p \\leq ||X||_p + ||Y||_p$"
   ]
  },
  {
   "cell_type": "markdown",
   "id": "edfbd941",
   "metadata": {},
   "source": [
    "Pf)\n",
    "\n",
    "When $p=1$ then inequality holds frome triangle inequality\n",
    "\n",
    "Assume $P>1$ and defice $p' = \\frac{p}{p-1},$ then $\\frac{1}{p} + \\frac{1}{p'} = 1$\n",
    "\n",
    "From triangle inequality\n",
    "\n",
    "$|X+Y|^p = |X+Y|^{p-1}|X+Y| \\leq |X+Y|^{p-1} + |X+Y|^{p-1}|Y|$\n",
    "\n",
    "From Hölder's inequality\n",
    "\n",
    "$E|X+Y|^p \\leq E(|X+Y|^{p-1}|X|) +E(|X+Y|^{p-1}|Y|)$\n",
    "\n",
    "$\\leq (E|X+Y|^{p-1p'})^\\frac{1}{p}(E|X|^p)^\\frac{1}{p} + (E|X+Y|^{p-1p'})^\\frac{1}{p}(E|Y|^p)^\\frac{1}{p}$\n",
    "\n",
    "$=(E(|X+Y|^p))^\\frac{1}{p'}[(E|X|^p)^\\frac{1}{p} + (E|Y|^p)^\\frac{1}{p}$\n",
    "\n",
    "$\\Rightarrow (E|X+Y|^p)^{-\\frac{1}{p'}} \\leq (E|X|^p)^\\frac{1}{p} + E(|Y|^p)^\\frac{1}{p}$\n",
    "\n",
    "So,  **||𝑋+𝑌||𝑝 ≤ ||𝑋||𝑝 + ||𝑌||𝑝**"
   ]
  },
  {
   "cell_type": "markdown",
   "id": "032affee",
   "metadata": {},
   "source": [
    "### Theorem 4.10 (Jenson's inequality)"
   ]
  },
  {
   "cell_type": "markdown",
   "id": "40844ea4",
   "metadata": {},
   "source": [
    "If $\\emptyset$ is convex, and $X$ and $\\emptyset(X)$ are integrable,\n",
    "\n",
    "Then $E(\\emptyset(X)) \\geq \\emptyset(E(X))$"
   ]
  },
  {
   "cell_type": "markdown",
   "id": "fe06689f",
   "metadata": {},
   "source": [
    "## 4.3 Convergence in distribution"
   ]
  },
  {
   "cell_type": "markdown",
   "id": "e67e0166",
   "metadata": {},
   "source": [
    "### Def 4.4"
   ]
  },
  {
   "cell_type": "markdown",
   "id": "e333d2a8",
   "metadata": {},
   "source": [
    "A measure µ on $(\\mathbb{R},\\beta)$ with µ($\\mathbb R) \\leq 1$ is called a subprobability measure (s.p.m)"
   ]
  },
  {
   "cell_type": "markdown",
   "id": "b4df1d74",
   "metadata": {},
   "source": [
    "### Def 4.5"
   ]
  },
  {
   "cell_type": "markdown",
   "id": "781bdef0",
   "metadata": {},
   "source": [
    "A Sequence of $s,p,m µ_n$'s is called to converge vaguely to a $s,p,m$ µ if and only \n",
    "\n",
    "if $µ_n[(a, b]] \\to µ((a,b])$ for all $a < b$"
   ]
  },
  {
   "cell_type": "markdown",
   "id": "c537a6c9",
   "metadata": {},
   "source": [
    "### Remarks"
   ]
  },
  {
   "cell_type": "markdown",
   "id": "67c4ed5f",
   "metadata": {},
   "source": [
    "1. A concrete definition of the vague convergence only requires that $µ_n((a, b]) \\to µ((a,b])$ for all $a, b \\in D$, where $D$ in a dense set of $\\mathbb R$ \n",
    "\n",
    "finite number, infinite number = e.g of dense sets\n",
    "\n",
    "2. If $µ_n$ and µ are probability measure, vague convergence is called **weak convergence**\n",
    "\n",
    "3. As another definition for vague convergence, some books use the following definition: A sequence of s.p.m $µ_n$ vaguely converge to s.p.m µ \n",
    "\n",
    "iff $\\int f(x)dµ_n(x) \\to \\int f(x)dµ(x)$ for every continuous and bounded function $f$"
   ]
  },
  {
   "cell_type": "markdown",
   "id": "40066264",
   "metadata": {},
   "source": [
    "- Should know between vague convergence, weak convergence and convergence distribution "
   ]
  },
  {
   "cell_type": "markdown",
   "id": "46845b7b",
   "metadata": {},
   "source": [
    "### Def 4.6 (Convergence in distribution)"
   ]
  },
  {
   "cell_type": "markdown",
   "id": "5fe012fb",
   "metadata": {},
   "source": [
    "The sequence of $r,v,\\{X_n\\}$ is said to converge to $X$ in distribution \n",
    "\n",
    "if $F_{X_n}(X) = P(X_n \\leq x) \\to P(X \\leq x) = F_x(x)$\n",
    "\n",
    "**for all continuous points of** $F_x(x)$"
   ]
  },
  {
   "cell_type": "markdown",
   "id": "f9069c8b",
   "metadata": {},
   "source": [
    "### Remark"
   ]
  },
  {
   "cell_type": "markdown",
   "id": "9181b7e4",
   "metadata": {},
   "source": [
    "Weak convergence and convergence in distribution are the same concept"
   ]
  },
  {
   "cell_type": "markdown",
   "id": "078cf4ff",
   "metadata": {},
   "source": [
    "### Theorem 4.11"
   ]
  },
  {
   "cell_type": "markdown",
   "id": "22306943",
   "metadata": {},
   "source": [
    "If $X_n \\to^p X$, then $X_n \\to^d X$"
   ]
  },
  {
   "cell_type": "markdown",
   "id": "71a25e46",
   "metadata": {},
   "source": [
    "Pf)\n",
    "\n",
    "Let x be a continuous point of X\n",
    "\n",
    "For any $E > 0$ and each $n$, $F_n(X) = P(X_n \\leq x)$\n",
    "\n",
    "$= P(X_n \\leq x, |X_n - X| \\leq E) + P(X_n \\leq x, |X_n-X| > E)$\n",
    "\n",
    "$\\leq P(X\\leq x + E) + P(|X_n-X| > E)$ ... 1"
   ]
  },
  {
   "cell_type": "markdown",
   "id": "48f145dd",
   "metadata": {},
   "source": [
    "$F_x(x-E) = P(x \\leq x - E)$\n",
    "\n",
    "$P(X\\leq x - E, |X_n-X| \\leq E) + P(X\\leq x-E, |X_n - X| > E)$\n",
    "\n",
    "$\\leq P(X_n \\leq x) + P(|X_n - X|>E)$\n",
    "\n",
    "$= F_{X_n}(x) + P(|X_n - X| > E)$ ... 2"
   ]
  },
  {
   "cell_type": "markdown",
   "id": "cae625c8",
   "metadata": {},
   "source": [
    "$\\Rightarrow F_x(x-E) - P(|X_n-X|>E) \\leq F_n(x) \\leq F(x+E) + P(|X_n-X|>E)$\n",
    "\n",
    "$F_x(x-E) \\leq \\lim\\inf F_n(x) \\leq \\lim\\sup F_n(x) \\leq F(x+E)$\n",
    "\n",
    "$F_x(x) \\ \\leq \\lim\\inf F_n(x) \\leq \\lim\\sup F_n(x) \\leq F(x)$\n",
    "\n",
    "$F(x) = \\lim F_n(x)$ for all cotinuity points fo $F$"
   ]
  },
  {
   "cell_type": "markdown",
   "id": "4b91681b",
   "metadata": {},
   "source": [
    "#### Exmaple ($X_n \\to^d X$ but $X_n \\to^p_{not} X$) "
   ]
  },
  {
   "cell_type": "markdown",
   "id": "2a7917ae",
   "metadata": {},
   "source": [
    "$ X , Y$ ~$^{iid} N(0,1)$"
   ]
  },
  {
   "cell_type": "markdown",
   "id": "39cb9f1f",
   "metadata": {},
   "source": [
    "$ \n",
    "X_n = \\left\\{\n",
    "\\begin{aligned}\n",
    "& X & if && n = odd \\\\\n",
    "& Y & if && n = even \n",
    "\\end{aligned}\n",
    "\\right.\n",
    "$\n",
    "\n",
    "$\\Rightarrow X_n \\to^d N(|a|) = X$\n",
    "\n",
    "but $X_n \\to^p_{not} X$"
   ]
  },
  {
   "cell_type": "markdown",
   "id": "b56e1244",
   "metadata": {},
   "source": [
    "### Lemma 4.12"
   ]
  },
  {
   "cell_type": "markdown",
   "id": "8f27132b",
   "metadata": {},
   "source": [
    "If $X_n \\to^a c$ for a constant c, then $X_n \\to^p c$"
   ]
  },
  {
   "cell_type": "markdown",
   "id": "5cb32e3a",
   "metadata": {},
   "source": [
    "Pf)\n",
    "\n",
    "$X_n \\to^d c$ means that $F_n(x)$ converges to\n",
    "\n",
    "$ \n",
    "F(x) = \\left\\{\n",
    "\\begin{aligned}\n",
    "& 0 & if && x < c \\\\\n",
    "& 1 & if && x \\geq c \n",
    "\\end{aligned}\n",
    "\\right.\n",
    "$\n",
    "\n",
    "Now for any $E>0$\n",
    "\n",
    "$P(|X_n-c|>E) = P(X_n\\leq c-E) + P(X_n > C+E)$\n",
    "\n",
    "$\\leq F_{x_n}(c-E) + 1 -F_{X_n}(c+E)$\n",
    "\n",
    "$\\to F_x(c-E) + 1 - F_x(c+E) \\to 0$"
   ]
  },
  {
   "cell_type": "markdown",
   "id": "5e781fe1",
   "metadata": {},
   "source": [
    "### Theorem 4.13"
   ]
  },
  {
   "cell_type": "markdown",
   "id": "ac79e64a",
   "metadata": {},
   "source": [
    "1. If $X_n \\to^d X$ and $Y \\to^p c$ then $X_n + Y_n \\to^d X+e$\n",
    "2. If $X_n \\to^d X$ and $Y \\to^p c$ then $X_nY_n \\to^d e^X$"
   ]
  },
  {
   "cell_type": "markdown",
   "id": "bc8e77b0",
   "metadata": {},
   "source": [
    "Pf)\n",
    "\n",
    "WLOG, We assume c = 0\n",
    "\n",
    "1. \n",
    "\n",
    "$F_{X_n+Y_n} = P(X_n + Y_n \\leq Z) = P(X_n + Y_n \\leq Z, |Y_n|\\leq E) + P(X_n + Y_n \\leq Z, |Y_n|>E) \\leq P(X_n \\leq Z+E) + P(|Y_n|>E)$ ... 1\n",
    "\n",
    "$P(X_n \\leq Z-E) = P(X_n\\leq Z-E)|Y_n|\\leq E) + P(X_n \\leq Z-E, |Y_n|>E) \\leq P(X_n \\leq Z-Y_n) + P(|Y_n|>E) = P(X_n+Y_n \\leq Z) + P(|Y_n|>E) = F_{X_n+Y_n}(Z) + P(|Y_n|>E)$\n",
    "...2\n",
    "\n"
   ]
  },
  {
   "cell_type": "markdown",
   "id": "c7440748",
   "metadata": {},
   "source": [
    "By ...1 and ...2\n",
    "\n",
    "$P(X_n \\leq Z-E) - P(|Y_n|>E) \\leq P(X_n + Y_n \\leq Z) \\leq P(X_n Z + E) + P(|Y_n| > E)$\n",
    "\n",
    "Taking $n\\to\\infty$ and then $E\\downarrow 0 finished the proof."
   ]
  },
  {
   "cell_type": "markdown",
   "id": "d629db9b",
   "metadata": {},
   "source": [
    "2. Let $E$ and $M$ be positive real numbers\n",
    "\n",
    "$P(|X_nY_n|>E) = P(|X_nY_n|>E,|Y_n|\\leq M) + P(|X_nY_n|>E,|Y_n|>M)$\n",
    "\n",
    "$\\leq P(|X_n|>\\frac{E}{M}) + P(|Y_n|>M)$\n",
    "\n",
    "Taking $n\\to\\infty$ and then $M\\downarrow 0 $ finishes the proof"
   ]
  },
  {
   "cell_type": "markdown",
   "id": "8a84e2f7",
   "metadata": {},
   "source": [
    "$+$\n",
    "\n",
    "$P(|X_n|>\\frac{E}{M}) \\to P(|X| > \\frac{E}{M}) \\to 0$"
   ]
  },
  {
   "cell_type": "markdown",
   "id": "18b8490f",
   "metadata": {},
   "source": [
    "$pf)$\n",
    "\n",
    "WLOG, we can assume $X = 0$\n",
    "\n",
    "for any integer $k > 0, \\lim_{k\\to\\infty}P(|X_n| > \\frac{q}{2^k}$) = 0\n",
    "\n",
    "$\\Rightarrow$ we can find $n_k$ s.t $P(|X_{n_k}| > \\frac{1}{2^k}) \\leq \\frac{1}{2^k}$\n",
    "\n",
    "$\\Rightarrow \\sum_{k=1}^\\infty P(|X_{n_k}| > \\frac{1}{2^k}) \\leq 1 < \\infty$\n",
    "\n",
    "$\\Rightarrow P(|X_{n_k}|> \\frac{1}{2^k}, i.o.) = 0$ :by 1st B-C lemma\n",
    "\n",
    "\n",
    "$\\Rightarrow$ $P(|X_{n_k}|>E, i.o.) \\leq P(\\bigcup_{k=1}^\\infty\\{|X_{n_k}|> \\frac{1}{2^k}\\}, i.o) \\leq \\sum_{k=1}^\\infty P(|X_{n_k}| > \\frac{1}{2^k}, i.o.) = 0$"
   ]
  },
  {
   "cell_type": "markdown",
   "id": "8ebc0163",
   "metadata": {},
   "source": [
    "By ...1 and ...2\n",
    "\n",
    "$P(X_n \\leq Z-E) - P(|Y_n|>E) \\leq P(X_n + Y_n \\leq Z) \\leq P(X_n Z + E) + P(|Y_n| > E)$\n",
    "\n",
    "Taking $n\\to\\infty$ and then $E\\downarrow 0 finished the proof."
   ]
  },
  {
   "cell_type": "markdown",
   "id": "dda8a24e",
   "metadata": {},
   "source": [
    "2. Let $E$ and $M$ be positive real numbers\n",
    "\n",
    "$P(|X_nY_n|>E) = P(|X_nY_n|>E,|Y_n|\\leq M) + P(|X_nY_n|>E,|Y_n|>M)$\n",
    "\n",
    "$\\leq P(|X_n|>\\frac{E}{M}) + P(|Y_n|>M)$\n",
    "\n",
    "Taking $n\\to\\infty$ and then $M\\downarrow 0 $ finishes the proof"
   ]
  },
  {
   "cell_type": "markdown",
   "id": "4a0a47b7",
   "metadata": {},
   "source": [
    "$+$\n",
    "\n",
    "$P(|X_n|>\\frac{E}{M}) \\to P(|X| > \\frac{E}{M}) \\to 0$"
   ]
  },
  {
   "cell_type": "markdown",
   "id": "8c245ca5",
   "metadata": {},
   "source": []
  }
 ],
 "metadata": {
  "kernelspec": {
   "display_name": "Python 3 (ipykernel)",
   "language": "python",
   "name": "python3"
  },
  "language_info": {
   "codemirror_mode": {
    "name": "ipython",
    "version": 3
   },
   "file_extension": ".py",
   "mimetype": "text/x-python",
   "name": "python",
   "nbconvert_exporter": "python",
   "pygments_lexer": "ipython3",
   "version": "3.9.13"
  }
 },
 "nbformat": 4,
 "nbformat_minor": 5
}
