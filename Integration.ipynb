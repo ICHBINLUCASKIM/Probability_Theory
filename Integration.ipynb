{
 "cells": [
  {
   "cell_type": "markdown",
   "id": "bcb52539",
   "metadata": {},
   "source": [
    "# Integration"
   ]
  },
  {
   "cell_type": "markdown",
   "id": "ab3cfbad",
   "metadata": {},
   "source": [
    "## Definition 2.11"
   ]
  },
  {
   "cell_type": "markdown",
   "id": "7480a7e7",
   "metadata": {},
   "source": [
    "Suppose that $f$ is a measure simple function on a measure space($\\Omega$,<font face='cursive'>F</font>, $\\mu$) that is $f(w) = \\sum_{i=1}^n C_i I_{A_i}(w)$ where {$A_i$} is a finite decompostion of $\\Omega$ into <font face='cursive'>F</font> - sets. The integral of $f$ is then defined as $\\int f(w)d\\mu(w) = \\sum_{i=1}^n C_i\\mu(A_i)$  "
   ]
  },
  {
   "cell_type": "markdown",
   "id": "0e123bd2",
   "metadata": {},
   "source": [
    "## Preposition 2.3"
   ]
  },
  {
   "cell_type": "markdown",
   "id": "3098c63b",
   "metadata": {},
   "source": [
    "Let $f$ and $g$ be nonnegative simple functions on a measure space ($\\Omega$ ,<font face='cursive'>F</font>, $\\mu$), then\n",
    "\n",
    "1. 0 $\\leq \\int fd\\mu \\leq \\infty$\n",
    "2. If 0 $\\leq C < \\infty$ is a constant, $\\int cfd\\mu = c\\int fd\\mu$\n",
    "3. $\\int(f+g)d\\mu = \\int fd\\mu + \\int gd\\mu$\n",
    "4. If $f\\leq g,$ then $\\int fd\\mu \\leq \\int gd\\mu$\n",
    "5. If $A \\subset B, then \\int_A fd\\mu \\leq \\int_B fd\\mu, $ where $\\int_A fI_A d\\mu$"
   ]
  },
  {
   "cell_type": "markdown",
   "id": "0bd6f81c",
   "metadata": {},
   "source": [
    "$pf)$\n",
    "\n",
    "1. and 2. : obvious\n",
    "3. Let $f(w) = \\sum_{k=1}^m \\alpha_kI_{A_k}(w)$ and $g(w) = \\sum_{j=1}^l\\beta_jI_{B_j}$\n",
    "\n",
    "Then, $f+g(w) = \\sum_{k=1}^m\\sum_{j=1}^l(\\alpha_k+\\beta_j)I_{A_k\\cap B_j}(w)$\n",
    "\n",
    "$\\int(f + g)d\\mu = \\sum_{k=1}^m\\sum_{j=1}^l(\\alpha_k+\\beta_j)\\mu(A_k\\cap B_j)$\n",
    "\n",
    "= $\\sum_{k=1}^m\\alpha_k\\sum_{j=1}^l\\mu(A_k\\cap B_j) + \\sum_{j=1}^j\\beta_i\\sum_{k=1}^m\\mu(A_k\\cap B_j)$\n",
    "\n",
    "= $\\int fd\\mu + \\int gd\\mu $\n",
    "\n",
    "4. Let $h = g - f$, then $g$ is a nonnegative simple function and $g = h + f$\n",
    "\n",
    "From 3, $\\int gd\\mu = \\int(h + f)d\\mu$\n",
    "\n",
    "= $\\int hd\\mu + \\int gd\\mu \\geq \\int fd\\mu$\n",
    "\n",
    "5. obvious, from 4\n"
   ]
  },
  {
   "cell_type": "markdown",
   "id": "854d3703",
   "metadata": {},
   "source": [
    "- $+ \\alpha$: Preposition 2.3 - 4\n",
    "\n",
    "If $f \\leq g$ a.e, $\\int fd\\mu \\leq \\int gd\\mu$\n",
    "\n",
    "A = {$w: f(w) > g(w)$}\n",
    "\n",
    "$\\int fd\\mu = \\int_{A\\cup A^c} fd\\mu = \\int_A fd\\mu + \\int_{A^c}fd\\mu$\n",
    "\n",
    "$f = \\sum{C_i}I_{A_i}$\n",
    "\n",
    "$\\int fd\\mu = \\int\\sum C_iI_{A_i}I_Ad\\mu$\n",
    "\n",
    "$= \\int\\sum C_i I_{A_i\\cap A}d\\mu$\n",
    "\n",
    "$= \\int C_i\\mu(A_i\\cap A) \\leq \\mu(A)$"
   ]
  },
  {
   "cell_type": "markdown",
   "id": "2571d933",
   "metadata": {},
   "source": [
    "## Definition 2.12"
   ]
  },
  {
   "cell_type": "markdown",
   "id": "b8f6415b",
   "metadata": {},
   "source": [
    "Let <font face='cursive'>G</font> be a collection of all nonnegative simple functions on a measure space ($\\Omega$, <font face='cursive'>F</font>, $\\mu$) Suppose $f$ is a real negative measurable function on a measure space ($\\Omega$, <font face='cursive'>F</font>, $\\mu$) Then, integral of $A$ is\n",
    "\n",
    "$\\int f(w)d\\mu(w) = \\sup\\{\\int g(w)d\\mu(w) | g \\leq f, g \\in$ <font face='cursive'>G</font>}"
   ]
  },
  {
   "cell_type": "markdown",
   "id": "59f56eaf",
   "metadata": {},
   "source": [
    "## Definition 2.13"
   ]
  },
  {
   "cell_type": "markdown",
   "id": "5c1cbbcc",
   "metadata": {},
   "source": [
    "For a real measurable function $f$ on a measurable space ($\\Omega$, <font face='cursive'>F</font>, $\\mu$), the integral of $f$ is defined as\n",
    "\n",
    "$\\int f(w)d\\mu(w) = \\int f^+(w)d\\mu(w) - \\int f^-(w)d\\mu(w)$"
   ]
  },
  {
   "cell_type": "markdown",
   "id": "f0049853",
   "metadata": {},
   "source": [
    "Where\n",
    "\n",
    " $ f^+(w) = \\left\\{\n",
    "\\begin{aligned}\n",
    "& f(w) & if &&  0 \\leq f(w) \\leq \\infty \\\\\n",
    "& 0 & if && \\infty \\leq f(w) < 0 \n",
    "\\end{aligned}\n",
    "\\right.\n",
    "$\n",
    "\n",
    "and\n",
    "\n",
    "$ f^-(x) = \\left\\{\n",
    "\\begin{aligned}\n",
    "& 0 & if && 0 \\leq f(w) \\leq \\infty \\\\\n",
    "& -f(w) & if && -\\infty \\leq f(w) < 0 \\\\\n",
    "\\end{aligned}\n",
    "\\right.\n",
    "$"
   ]
  },
  {
   "cell_type": "markdown",
   "id": "8ba10e2a",
   "metadata": {},
   "source": [
    "If $\\int f^{-1}(w)d\\mu(w)$ and $\\int f(w)d\\mu(w)$ are both finite, we call $f$ is **integral**"
   ]
  },
  {
   "cell_type": "markdown",
   "id": "59373051",
   "metadata": {},
   "source": [
    "## Preposition 2.4"
   ]
  },
  {
   "cell_type": "markdown",
   "id": "3c0df5f6",
   "metadata": {},
   "source": [
    "Let $f$ and $g$ be nonnegative measurable functions on ($\\Omega$, <font face='cursive'>F</font>, $\\mu$)"
   ]
  },
  {
   "cell_type": "markdown",
   "id": "da585010",
   "metadata": {},
   "source": [
    "Then,\n",
    "\n",
    "1. $0 \\leq \\int fd\\mu$\n",
    "2. If 0 $\\leq c < \\infty, \\int cfd\\mu = c\\int fd\\mu$\n",
    "3. $\\int(f+g)d\\mu = \\int fd\\mu + \\int gd\\mu$\n",
    "4. $f \\leq g \\Rightarrow \\int fd\\mu \\leq \\int gd\\mu$\n",
    "5. $A \\subset B \\Rightarrow \\int_A fd\\mu \\leq \\int_B fd\\mu$"
   ]
  },
  {
   "cell_type": "markdown",
   "id": "53b60e03",
   "metadata": {},
   "source": [
    "$+\\alpha: s\\leq f \\leq g$\n",
    "\n",
    "$\\int fd\\mu = \\sup_{s\\leq f}\\int sd\\mu \\leq \\int gd\\mu = \\sup_{s\\leq g}\\int sd\\mu$"
   ]
  },
  {
   "cell_type": "markdown",
   "id": "22cad8a1",
   "metadata": {},
   "source": [
    "## Theorem (Monotone Coveragence Theorem)"
   ]
  },
  {
   "cell_type": "markdown",
   "id": "f2e013bb",
   "metadata": {},
   "source": [
    "If $f_n \\uparrow f,$ then $\\int f_nd\\mu \\uparrow \\int fd\\mu$ "
   ]
  },
  {
   "cell_type": "markdown",
   "id": "fabbf863",
   "metadata": {},
   "source": [
    "$pf)$\n",
    "\n",
    "$f_1 \\leq f_2 \\leq ... \\leq f$ implies\n",
    "\n",
    "$\\int f_1d\\mu \\leq \\int f_2d\\mu \\leq ... \\leq \\int fd\\mu$\n",
    "\n",
    "Hence $\\lim_{n\\to\\infty}\\int f_nd\\mu$ exist and $\\lim_{n\\to\\infty}\\int f_nd\\mu \\leq \\int fd\\mu$\n",
    "\n",
    "If we show $\\lim_{n\\to\\infty}\\int f_nd\\mu \\geq \\int fd\\mu$, the proof is completed\n",
    "\n",
    "(or $\\lim_{n\\to\\infty} \\int f_nd\\mu \\geq \\int sd\\mu$ for all $s \\leq f$)"
   ]
  },
  {
   "cell_type": "markdown",
   "id": "9cf7da4a",
   "metadata": {},
   "source": [
    "For any $s \\leq f$, let $E_n = \\{x \\in \\mathbb R, f_n(x) \\geq \\alpha s(x)\\}$\n",
    "\n",
    "for same $0 < \\alpha < 1$, Then $E_n \\uparrow \\mathbb R$"
   ]
  },
  {
   "cell_type": "markdown",
   "id": "00dc662a",
   "metadata": {},
   "source": [
    "When $s(x) = 0$, then $E_n = \\mathbb R$ for all $n$.\n",
    "\n",
    "When $s(x) > 0$, for sufficiently large $n$, $f_n \\geq \\alpha s$\n",
    "\n",
    "because $f_n \\uparrow f$, which means $\\underset{n=1}{\\overset{\\infty}{\\bigcup}}E_n = \\mathbb R$"
   ]
  },
  {
   "cell_type": "markdown",
   "id": "27643ae8",
   "metadata": {},
   "source": [
    "Then we have\n",
    "\n",
    "$\\int_{\\mathbb R} f_nd\\mu \\geq \\int_{E_n} f_n d\\mu \\geq \\int_{E_n} \\alpha sd\\mu$ $= \\alpha \\int_{E_n} sd\\mu \\geq \\sum_{j=1}^{m}\\alpha_j\\mu(A_j\\cap E_n)$\n",
    "\n",
    "Taking $n \\to \\infty,$ we have\n",
    "\n",
    "$\\lim_{n\\to\\infty}\\int_{\\mathbb R} f_nd\\mu \\geq \\alpha\\sum_{j=1}^m\\alpha_j\\mu(A_j) = \\alpha\\int sd\\mu$\n",
    "\n",
    "Taking $\\alpha \\to 1$, we have $\\lim_{n\\to\\infty}\\int_{\\mathbb R} f_nd\\mu \\geq \\int sd\\mu$"
   ]
  },
  {
   "cell_type": "markdown",
   "id": "4d8da236",
   "metadata": {},
   "source": [
    "## Theorem (Fatou's Lemma)"
   ]
  },
  {
   "cell_type": "markdown",
   "id": "1cc1b37e",
   "metadata": {},
   "source": [
    "$\\int\\liminf f_nd\\mu \\leq \\liminf\\int f_nd\\mu$ for nonnegative measurable function $f_n$"
   ]
  },
  {
   "cell_type": "markdown",
   "id": "9b1f4aa9",
   "metadata": {},
   "source": [
    "$pf)$\n",
    "\n",
    "Let $g_n = \\inf_{k\\geq n}f_k \\Rightarrow 0\\leq g_n\\uparrow g \\liminf f_n$\n",
    "\n",
    "$\\int g_nd\\mu \\leq \\int f_nd\\mu \\Rightarrow \\liminf\\int g_nd\\mu \\leq \\liminf\\int f_nd\\mu$\n",
    "\n",
    "$\\Rightarrow \\liminf\\int g_nd\\mu = \\lim\\int g_nd\\mu =(MCT) \\int\\lim g_nd\\mu = \\int\\liminf f_nd\\mu$"
   ]
  },
  {
   "cell_type": "markdown",
   "id": "027701df",
   "metadata": {},
   "source": [
    "## Lebesque's dominated convergence theorem"
   ]
  },
  {
   "cell_type": "markdown",
   "id": "c776509b",
   "metadata": {},
   "source": [
    "If $|fn| \\leq g,$ where $g$ is integrable and if $f_n \\to f$ then $f$ and $f_n$ are integrable and $\\int f_nd\\mu \\to \\int fd\\mu$"
   ]
  },
  {
   "cell_type": "markdown",
   "id": "ffa65cc7",
   "metadata": {},
   "source": [
    "$pf)$\n",
    "\n",
    "(1) $\\int gd\\mu + \\int\\liminf f_nd\\mu = \\int\\liminf(g+f_n)d\\mu$\n",
    "\n",
    "$\\leq \\liminf\\int(g + f_n)d\\mu = \\int gd\\mu + \\liminf\\int f_nd\\mu$\n",
    "\n",
    "$\\Rightarrow \\int\\liminf f_nd\\mu \\leq \\liminf\\int f_nd\\mu$"
   ]
  },
  {
   "cell_type": "markdown",
   "id": "61b20319",
   "metadata": {},
   "source": [
    "(2) $\\int gd\\mu - \\int\\limsup f_n d\\mu = \\int\\liminf(g - f_n)d\\mu$\n",
    "\n",
    "$\\leq \\liminf\\int(g- f_n)d\\mu = \\int gd\\mu = \\int gd\\mu - \\limsup\\int f_nd\\mu$\n",
    "\n",
    "$\\Rightarrow \\limsup\\int f_nd\\mu \\leq \\int\\limsup f_nd\\mu$"
   ]
  },
  {
   "cell_type": "markdown",
   "id": "78245739",
   "metadata": {},
   "source": [
    "From (1) and (2)\n",
    "\n",
    "$\\liminf f_nd\\mu \\leq \\liminf\\int f_nd\\mu \\leq \\limsup\\int f_nd\\mu \\leq \\int\\limsup f_nd\\mu$\n",
    "\n",
    "Because $f_n \\to f, \\int\\liminf f_nd\\mu = \\int\\limsup f_nd\\mu = \\int fd\\mu$\n",
    "\n"
   ]
  },
  {
   "cell_type": "markdown",
   "id": "7cb388b1",
   "metadata": {},
   "source": [
    "- E.g"
   ]
  },
  {
   "cell_type": "markdown",
   "id": "bbdddd89",
   "metadata": {},
   "source": [
    "$f(x)$: integrable $\\Rightarrow \\lim_{n\\to\\infty}\\int f(x)e^{-\\frac{x}{n}}dx = \\int f(x)dx$"
   ]
  },
  {
   "cell_type": "code",
   "execution_count": null,
   "id": "25708a0b",
   "metadata": {},
   "outputs": [],
   "source": []
  }
 ],
 "metadata": {
  "kernelspec": {
   "display_name": "Python 3 (ipykernel)",
   "language": "python",
   "name": "python3"
  },
  "language_info": {
   "codemirror_mode": {
    "name": "ipython",
    "version": 3
   },
   "file_extension": ".py",
   "mimetype": "text/x-python",
   "name": "python",
   "nbconvert_exporter": "python",
   "pygments_lexer": "ipython3",
   "version": "3.9.13"
  }
 },
 "nbformat": 4,
 "nbformat_minor": 5
}
